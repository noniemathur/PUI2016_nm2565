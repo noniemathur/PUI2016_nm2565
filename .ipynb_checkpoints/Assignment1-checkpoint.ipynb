{
 "cells": [
  {
   "cell_type": "code",
   "execution_count": 4,
   "metadata": {
    "collapsed": false
   },
   "outputs": [
    {
     "name": "stdout",
     "output_type": "stream",
     "text": [
      "Populating the interactive namespace from numpy and matplotlib\n"
     ]
    }
   ],
   "source": [
    "import pylab as pl\n",
    "import json\n",
    "import urllib as urllib\n",
    "%pylab inline\n",
    "\n",
    "url = 'http://bustime.mta.info/api/siri/vehicle-monitoring.json?key=b07ce118-a5d2-413d-9d39-f90f361cdc72&VehicleMonitoringDetailLevel=calls&LineRef=B52'\n",
    "response = urllib.urlopen(url)\n",
    "data = response.read().decode(\"utf-8\")\n",
    "data = json.loads(data)"
   ]
  },
  {
   "cell_type": "code",
   "execution_count": 22,
   "metadata": {
    "collapsed": false
   },
   "outputs": [
    {
     "data": {
      "text/plain": [
       "dict"
      ]
     },
     "execution_count": 22,
     "metadata": {},
     "output_type": "execute_result"
    }
   ],
   "source": [
    "type (data)"
   ]
  },
  {
   "cell_type": "code",
   "execution_count": 6,
   "metadata": {
    "collapsed": false
   },
   "outputs": [
    {
     "data": {
      "text/plain": [
       "[u'Siri']"
      ]
     },
     "execution_count": 6,
     "metadata": {},
     "output_type": "execute_result"
    }
   ],
   "source": [
    "data.keys()"
   ]
  },
  {
   "cell_type": "code",
   "execution_count": 14,
   "metadata": {
    "collapsed": false
   },
   "outputs": [],
   "source": [
    "#data['Siri']['ServiceDelivery']['VehicleMonitoringDelivery'][0]['VehicleActivity'][0]['MonitoredVehicleJourney']['VehicleLocation']\n",
    "location = data['Siri']['ServiceDelivery']['VehicleMonitoringDelivery'][0]['VehicleActivity']"
   ]
  },
  {
   "cell_type": "code",
   "execution_count": 10,
   "metadata": {
    "collapsed": false
   },
   "outputs": [
    {
     "data": {
      "text/plain": [
       "list"
      ]
     },
     "execution_count": 10,
     "metadata": {},
     "output_type": "execute_result"
    }
   ],
   "source": [
    "type(location)"
   ]
  },
  {
   "cell_type": "code",
   "execution_count": 11,
   "metadata": {
    "collapsed": false
   },
   "outputs": [
    {
     "data": {
      "text/plain": [
       "12"
      ]
     },
     "execution_count": 11,
     "metadata": {},
     "output_type": "execute_result"
    }
   ],
   "source": [
    "len(location)"
   ]
  },
  {
   "cell_type": "code",
   "execution_count": 35,
   "metadata": {
    "collapsed": false
   },
   "outputs": [
    {
     "name": "stdout",
     "output_type": "stream",
     "text": [
      "Bus line: B52\n",
      "Number of active buses: 12\n",
      "Bus 0 is at latitude 40.699311 and longitude -73.911253\n",
      "Bus 1 is at latitude 40.692588 and longitude -73.989076\n",
      "Bus 2 is at latitude 40.686178 and longitude -73.950906\n",
      "Bus 3 is at latitude 40.687525 and longitude -73.939224\n",
      "Bus 4 is at latitude 40.695437 and longitude -73.91623\n",
      "Bus 5 is at latitude 40.694074 and longitude -73.917568\n",
      "Bus 6 is at latitude 40.699312 and longitude -73.911252\n",
      "Bus 7 is at latitude 40.694561 and longitude -73.917091\n",
      "Bus 8 is at latitude 40.696186 and longitude -73.990967\n",
      "Bus 9 is at latitude 40.691999 and longitude -73.988711\n",
      "Bus 10 is at latitude 40.697879 and longitude -73.913831\n",
      "Bus 11 is at latitude 40.685885 and longitude -73.972925\n"
     ]
    }
   ],
   "source": [
    "bus_line = 'Bus line: B52'\n",
    "busesonroad = len(location)\n",
    "print bus_line\n",
    "print 'Number of active buses:' , busesonroad\n",
    "\n",
    "w = 0\n",
    "for i in location:\n",
    "    latitude = i['MonitoredVehicleJourney']['VehicleLocation']['Latitude']\n",
    "    longitude = i['MonitoredVehicleJourney']['VehicleLocation']['Longitude']\n",
    "    print 'Bus',w,'is at latitude', latitude, 'and longitude', longitude \n",
    "    w = w + 1"
   ]
  },
  {
   "cell_type": "code",
   "execution_count": null,
   "metadata": {
    "collapsed": true
   },
   "outputs": [],
   "source": []
  },
  {
   "cell_type": "code",
   "execution_count": null,
   "metadata": {
    "collapsed": true
   },
   "outputs": [],
   "source": []
  }
 ],
 "metadata": {
  "kernelspec": {
   "display_name": "PUI2016_Python2",
   "language": "python",
   "name": "pui2016_python2"
  },
  "language_info": {
   "codemirror_mode": {
    "name": "ipython",
    "version": 2
   },
   "file_extension": ".py",
   "mimetype": "text/x-python",
   "name": "python",
   "nbconvert_exporter": "python",
   "pygments_lexer": "ipython2",
   "version": "2.7.12"
  }
 },
 "nbformat": 4,
 "nbformat_minor": 0
}
