{
 "cells": [
  {
   "cell_type": "code",
   "execution_count": 1,
   "metadata": {
    "collapsed": true
   },
   "outputs": [],
   "source": [
    "# Ha = Citi Bike users under the age of 35 bike for longer durations compared to the average users\n",
    "# H0 = Citi Bike users under the age of 35 bike either for shorter or the same durantions compared to the average users\n",
    "\n",
    "# Ha = Trip duration (under age 35) > Trip duration (general pop)\n",
    "# H0 = Trip duration (under age 35) <= Trip duration (general pop)"
   ]
  },
  {
   "cell_type": "code",
   "execution_count": 5,
   "metadata": {
    "collapsed": false
   },
   "outputs": [
    {
     "name": "stdout",
     "output_type": "stream",
     "text": [
      "Populating the interactive namespace from numpy and matplotlib\n"
     ]
    }
   ],
   "source": [
    "from __future__  import print_function, division\n",
    "import pylab as pl\n",
    "import pandas as pd\n",
    "import numpy as np\n",
    "import os\n",
    "\n",
    "%pylab inline\n",
    "\n",
    "if os.getenv ('PUI2016') is None:\n",
    "    print (\"Must set env variable PUI2016\")\n",
    "if os.getenv ('PUIDATA') is None:\n",
    "    print (\"Must set env variable PUI2016\")\n",
    "\n",
    "import os\n",
    "import json"
   ]
  },
  {
   "cell_type": "code",
   "execution_count": 3,
   "metadata": {
    "collapsed": false
   },
   "outputs": [
    {
     "data": {
      "text/plain": [
       "'/home/cusp/nm2565/PUI2016'"
      ]
     },
     "execution_count": 3,
     "metadata": {},
     "output_type": "execute_result"
    }
   ],
   "source": [
    "os.getenv('PUI2016')"
   ]
  },
  {
   "cell_type": "code",
   "execution_count": 4,
   "metadata": {
    "collapsed": false
   },
   "outputs": [
    {
     "data": {
      "text/plain": [
       "'/home/cusp/nm2565/PUIdata'"
      ]
     },
     "execution_count": 4,
     "metadata": {},
     "output_type": "execute_result"
    }
   ],
   "source": [
    "os.getenv('PUIDATA')"
   ]
  },
  {
   "cell_type": "code",
   "execution_count": 6,
   "metadata": {
    "collapsed": false
   },
   "outputs": [
    {
     "name": "stdout",
     "output_type": "stream",
     "text": [
      "  % Total    % Received % Xferd  Average Speed   Time    Time     Time  Current\n",
      "                                 Dload  Upload   Total   Spent    Left  Speed\n",
      "100 22.0M  100 22.0M    0     0  20.7M      0  0:00:01  0:00:01 --:--:-- 24.3M\n"
     ]
    }
   ],
   "source": [
    "!curl -O 'https://s3.amazonaws.com/tripdata/201512-citibike-tripdata.zip'"
   ]
  },
  {
   "cell_type": "code",
   "execution_count": 7,
   "metadata": {
    "collapsed": false
   },
   "outputs": [
    {
     "name": "stdout",
     "output_type": "stream",
     "text": [
      "Archive:  201512-citibike-tripdata.zip\n",
      "  inflating: 201512-citibike-tripdata.csv  \n"
     ]
    }
   ],
   "source": [
    "!unzip 201512-citibike-tripdata.zip"
   ]
  },
  {
   "cell_type": "code",
   "execution_count": 15,
   "metadata": {
    "collapsed": false
   },
   "outputs": [
    {
     "data": {
      "text/plain": [
       "<bound method DataFrame.head of         tripduration            starttime             stoptime  \\\n",
       "0                475   12/1/2015 07:35:36   12/1/2015 07:43:32   \n",
       "1                684   12/1/2015 07:38:15   12/1/2015 07:49:39   \n",
       "2               1063   12/1/2015 07:44:49   12/1/2015 08:02:33   \n",
       "3               1075   12/1/2015 08:02:29   12/1/2015 08:20:24   \n",
       "4                293   12/1/2015 08:06:37   12/1/2015 08:11:30   \n",
       "5                812   12/1/2015 08:07:57   12/1/2015 08:21:30   \n",
       "6                551   12/1/2015 08:08:53   12/1/2015 08:18:05   \n",
       "7               1531   12/1/2015 08:12:10   12/1/2015 08:37:42   \n",
       "8               1617   12/1/2015 08:26:17   12/1/2015 08:53:14   \n",
       "9                525   12/1/2015 08:28:37   12/1/2015 08:37:23   \n",
       "10               721   12/1/2015 08:43:25   12/1/2015 08:55:27   \n",
       "11               770   12/1/2015 08:47:46   12/1/2015 09:00:37   \n",
       "12               606   12/1/2015 08:47:52   12/1/2015 08:57:59   \n",
       "13               773   12/1/2015 08:48:09   12/1/2015 09:01:02   \n",
       "14               967   12/1/2015 08:50:13   12/1/2015 09:06:20   \n",
       "15               405   12/1/2015 08:50:43   12/1/2015 08:57:28   \n",
       "16               755   12/1/2015 09:14:10   12/1/2015 09:26:46   \n",
       "17              1274   12/1/2015 09:24:49   12/1/2015 09:46:03   \n",
       "18              1420   12/1/2015 09:30:45   12/1/2015 09:54:26   \n",
       "19              1454   12/1/2015 09:35:48   12/1/2015 10:00:02   \n",
       "20              1107   12/1/2015 09:46:58   12/1/2015 10:05:25   \n",
       "21              1374   12/1/2015 09:55:57   12/1/2015 10:18:52   \n",
       "22               863   12/1/2015 10:08:25   12/1/2015 10:22:48   \n",
       "23               367   12/1/2015 10:11:06   12/1/2015 10:17:13   \n",
       "24               224   12/1/2015 10:26:27   12/1/2015 10:30:12   \n",
       "25              1193   12/1/2015 10:46:27   12/1/2015 11:06:21   \n",
       "26               670   12/1/2015 11:41:33   12/1/2015 11:52:43   \n",
       "27              1016   12/1/2015 11:58:19   12/1/2015 12:15:15   \n",
       "28              1139   12/1/2015 12:13:03   12/1/2015 12:32:02   \n",
       "29               657   12/1/2015 14:07:54   12/1/2015 14:18:52   \n",
       "...              ...                  ...                  ...   \n",
       "804095           774  12/31/2015 18:50:41  12/31/2015 19:03:36   \n",
       "804096           926  12/31/2015 21:13:54  12/31/2015 21:29:21   \n",
       "804097           279  12/24/2015 17:08:10  12/24/2015 17:12:49   \n",
       "804098           249  12/26/2015 17:56:26  12/26/2015 18:00:36   \n",
       "804099          1835  12/28/2015 08:13:00  12/28/2015 08:43:36   \n",
       "804100           310  12/28/2015 14:36:14  12/28/2015 14:41:24   \n",
       "804101           331  12/28/2015 20:08:29  12/28/2015 20:14:00   \n",
       "804102           479  12/29/2015 13:49:38  12/29/2015 13:57:38   \n",
       "804103          1833  12/30/2015 08:42:55  12/30/2015 09:13:29   \n",
       "804104           729  12/30/2015 09:05:03  12/30/2015 09:17:12   \n",
       "804105           206  12/30/2015 12:30:16  12/30/2015 12:33:42   \n",
       "804106           237  12/30/2015 21:10:34  12/30/2015 21:14:32   \n",
       "804107           200  12/31/2015 08:09:56  12/31/2015 08:13:17   \n",
       "804108          2069  12/31/2015 08:56:46  12/31/2015 09:31:15   \n",
       "804109          1255  12/31/2015 15:56:35  12/31/2015 16:17:30   \n",
       "804110           393  12/30/2015 15:24:41  12/30/2015 15:31:14   \n",
       "804111           298  12/30/2015 16:01:14  12/30/2015 16:06:12   \n",
       "804112           270  12/30/2015 18:11:21  12/30/2015 18:15:52   \n",
       "804113           278  12/30/2015 22:30:17  12/30/2015 22:34:56   \n",
       "804114          1155  12/31/2015 11:48:49  12/31/2015 12:08:05   \n",
       "804115           498  12/31/2015 12:00:05  12/31/2015 12:08:23   \n",
       "804116           313  12/31/2015 13:44:49  12/31/2015 13:50:03   \n",
       "804117           531  12/31/2015 15:05:11  12/31/2015 15:14:02   \n",
       "804118          1483  12/31/2015 15:50:37  12/31/2015 16:15:20   \n",
       "804119          1463  12/31/2015 15:50:52  12/31/2015 16:15:15   \n",
       "804120           509  12/31/2015 16:50:17  12/31/2015 16:58:46   \n",
       "804121           591  12/31/2015 17:17:52  12/31/2015 17:27:43   \n",
       "804122           197  12/31/2015 17:56:22  12/31/2015 17:59:39   \n",
       "804123           372  12/31/2015 21:20:38  12/31/2015 21:26:50   \n",
       "804124           395  12/31/2015 21:49:19  12/31/2015 21:55:55   \n",
       "\n",
       "        start station id          start station name  start station latitude  \\\n",
       "0                     72            W 52 St & 11 Ave               40.767272   \n",
       "1                     72            W 52 St & 11 Ave               40.767272   \n",
       "2                     72            W 52 St & 11 Ave               40.767272   \n",
       "3                     72            W 52 St & 11 Ave               40.767272   \n",
       "4                     72            W 52 St & 11 Ave               40.767272   \n",
       "5                     72            W 52 St & 11 Ave               40.767272   \n",
       "6                     72            W 52 St & 11 Ave               40.767272   \n",
       "7                     72            W 52 St & 11 Ave               40.767272   \n",
       "8                     72            W 52 St & 11 Ave               40.767272   \n",
       "9                     72            W 52 St & 11 Ave               40.767272   \n",
       "10                    72            W 52 St & 11 Ave               40.767272   \n",
       "11                    72            W 52 St & 11 Ave               40.767272   \n",
       "12                    72            W 52 St & 11 Ave               40.767272   \n",
       "13                    72            W 52 St & 11 Ave               40.767272   \n",
       "14                    72            W 52 St & 11 Ave               40.767272   \n",
       "15                    72            W 52 St & 11 Ave               40.767272   \n",
       "16                    72            W 52 St & 11 Ave               40.767272   \n",
       "17                    72            W 52 St & 11 Ave               40.767272   \n",
       "18                    72            W 52 St & 11 Ave               40.767272   \n",
       "19                    72            W 52 St & 11 Ave               40.767272   \n",
       "20                    72            W 52 St & 11 Ave               40.767272   \n",
       "21                    72            W 52 St & 11 Ave               40.767272   \n",
       "22                    72            W 52 St & 11 Ave               40.767272   \n",
       "23                    72            W 52 St & 11 Ave               40.767272   \n",
       "24                    72            W 52 St & 11 Ave               40.767272   \n",
       "25                    72            W 52 St & 11 Ave               40.767272   \n",
       "26                    72            W 52 St & 11 Ave               40.767272   \n",
       "27                    72            W 52 St & 11 Ave               40.767272   \n",
       "28                    72            W 52 St & 11 Ave               40.767272   \n",
       "29                    72            W 52 St & 11 Ave               40.767272   \n",
       "...                  ...                         ...                     ...   \n",
       "804095              3238             E 80 St & 2 Ave               40.773914   \n",
       "804096              3238             E 80 St & 2 Ave               40.773914   \n",
       "804097              3241    Monroe St & Tompkins Ave               40.686203   \n",
       "804098              3241    Monroe St & Tompkins Ave               40.686203   \n",
       "804099              3241    Monroe St & Tompkins Ave               40.686203   \n",
       "804100              3241    Monroe St & Tompkins Ave               40.686203   \n",
       "804101              3241    Monroe St & Tompkins Ave               40.686203   \n",
       "804102              3241    Monroe St & Tompkins Ave               40.686203   \n",
       "804103              3241    Monroe St & Tompkins Ave               40.686203   \n",
       "804104              3241    Monroe St & Tompkins Ave               40.686203   \n",
       "804105              3241    Monroe St & Tompkins Ave               40.686203   \n",
       "804106              3241    Monroe St & Tompkins Ave               40.686203   \n",
       "804107              3241    Monroe St & Tompkins Ave               40.686203   \n",
       "804108              3241    Monroe St & Tompkins Ave               40.686203   \n",
       "804109              3241    Monroe St & Tompkins Ave               40.686203   \n",
       "804110              3242  Schermerhorn St & Court St               40.691029   \n",
       "804111              3242  Schermerhorn St & Court St               40.691029   \n",
       "804112              3242  Schermerhorn St & Court St               40.691029   \n",
       "804113              3242  Schermerhorn St & Court St               40.691029   \n",
       "804114              3242  Schermerhorn St & Court St               40.691029   \n",
       "804115              3242  Schermerhorn St & Court St               40.691029   \n",
       "804116              3242  Schermerhorn St & Court St               40.691029   \n",
       "804117              3242  Schermerhorn St & Court St               40.691029   \n",
       "804118              3242  Schermerhorn St & Court St               40.691029   \n",
       "804119              3242  Schermerhorn St & Court St               40.691029   \n",
       "804120              3242  Schermerhorn St & Court St               40.691029   \n",
       "804121              3242  Schermerhorn St & Court St               40.691029   \n",
       "804122              3242  Schermerhorn St & Court St               40.691029   \n",
       "804123              3242  Schermerhorn St & Court St               40.691029   \n",
       "804124              3242  Schermerhorn St & Court St               40.691029   \n",
       "\n",
       "        start station longitude  end station id  \\\n",
       "0                    -73.993929             173   \n",
       "1                    -73.993929             520   \n",
       "2                    -73.993929             358   \n",
       "3                    -73.993929             505   \n",
       "4                    -73.993929             525   \n",
       "5                    -73.993929             484   \n",
       "6                    -73.993929             520   \n",
       "7                    -73.993929             309   \n",
       "8                    -73.993929             276   \n",
       "9                    -73.993929             520   \n",
       "10                   -73.993929             522   \n",
       "11                   -73.993929             458   \n",
       "12                   -73.993929             490   \n",
       "13                   -73.993929             228   \n",
       "14                   -73.993929             305   \n",
       "15                   -73.993929             529   \n",
       "16                   -73.993929             267   \n",
       "17                   -73.993929             518   \n",
       "18                   -73.993929             427   \n",
       "19                   -73.993929            2008   \n",
       "20                   -73.993929             127   \n",
       "21                   -73.993929             375   \n",
       "22                   -73.993929             434   \n",
       "23                   -73.993929             469   \n",
       "24                   -73.993929             513   \n",
       "25                   -73.993929             127   \n",
       "26                   -73.993929             458   \n",
       "27                   -73.993929             284   \n",
       "28                   -73.993929             367   \n",
       "29                   -73.993929             388   \n",
       "...                         ...             ...   \n",
       "804095               -73.954395            3177   \n",
       "804096               -73.954395            3140   \n",
       "804097               -73.944694             344   \n",
       "804098               -73.944694             344   \n",
       "804099               -73.944694             309   \n",
       "804100               -73.944694            3056   \n",
       "804101               -73.944694            3057   \n",
       "804102               -73.944694             437   \n",
       "804103               -73.944694             309   \n",
       "804104               -73.944694            3065   \n",
       "804105               -73.944694            3055   \n",
       "804106               -73.944694            3052   \n",
       "804107               -73.944694             437   \n",
       "804108               -73.944694             309   \n",
       "804109               -73.944694            3095   \n",
       "804110               -73.991834             391   \n",
       "804111               -73.991834             406   \n",
       "804112               -73.991834             406   \n",
       "804113               -73.991834             323   \n",
       "804114               -73.991834             323   \n",
       "804115               -73.991834            3222   \n",
       "804116               -73.991834             391   \n",
       "804117               -73.991834             467   \n",
       "804118               -73.991834             412   \n",
       "804119               -73.991834             412   \n",
       "804120               -73.991834             261   \n",
       "804121               -73.991834             258   \n",
       "804122               -73.991834             157   \n",
       "804123               -73.991834             467   \n",
       "804124               -73.991834             418   \n",
       "\n",
       "                     end station name  end station latitude  \\\n",
       "0                  Broadway & W 49 St             40.760647   \n",
       "1                     W 52 St & 5 Ave             40.759923   \n",
       "2       Christopher St & Greenwich St             40.732916   \n",
       "3                     6 Ave & W 33 St             40.749013   \n",
       "4                    W 34 St & 11 Ave             40.755942   \n",
       "5                     W 44 St & 5 Ave             40.755003   \n",
       "6                     W 52 St & 5 Ave             40.759923   \n",
       "7                 Murray St & West St             40.714979   \n",
       "8             Duane St & Greenwich St             40.717488   \n",
       "9                     W 52 St & 5 Ave             40.759923   \n",
       "10            E 51 St & Lexington Ave             40.757148   \n",
       "11                   11 Ave & W 27 St             40.751396   \n",
       "12                    8 Ave & W 33 St             40.751551   \n",
       "13                    E 48 St & 3 Ave             40.754601   \n",
       "14                    E 58 St & 3 Ave             40.760958   \n",
       "15                    W 42 St & 8 Ave             40.757570   \n",
       "16                 Broadway & W 36 St             40.750977   \n",
       "17                    E 39 St & 2 Ave             40.747804   \n",
       "18                Bus Slip & State St             40.701907   \n",
       "19              Little West St & 1 Pl             40.705693   \n",
       "20              Barrow St & Hudson St             40.731724   \n",
       "21            Mercer St & Bleecker St             40.726795   \n",
       "22                    9 Ave & W 18 St             40.743174   \n",
       "23                 Broadway & W 53 St             40.763441   \n",
       "24                   W 56 St & 10 Ave             40.768254   \n",
       "25              Barrow St & Hudson St             40.731724   \n",
       "26                   11 Ave & W 27 St             40.751396   \n",
       "27              Greenwich Ave & 8 Ave             40.739017   \n",
       "28            E 53 St & Lexington Ave             40.758281   \n",
       "29                   W 26 St & 10 Ave             40.749718   \n",
       "...                               ...                   ...   \n",
       "804095             W 84 St & Broadway             40.786795   \n",
       "804096                1 Ave & E 78 St             40.771404   \n",
       "804097        Monroe St & Bedford Ave             40.685144   \n",
       "804098        Monroe St & Bedford Ave             40.685144   \n",
       "804099            Murray St & West St             40.714979   \n",
       "804100   Kosciuszko St & Nostrand Ave             40.690725   \n",
       "804101   Kosciuszko St & Tompkins Ave             40.691283   \n",
       "804102        Macon St & Nostrand Ave             40.680983   \n",
       "804103            Murray St & West St             40.714979   \n",
       "804104       Union Ave & Wallabout St             40.700295   \n",
       "804105      Greene Ave & Nostrand Ave             40.688334   \n",
       "804106         Lewis Ave & Madison St             40.686312   \n",
       "804107        Macon St & Nostrand Ave             40.680983   \n",
       "804108            Murray St & West St             40.714979   \n",
       "804109        Graham Ave & Herbert St             40.719293   \n",
       "804110            Clark St & Henry St             40.697601   \n",
       "804111         Hicks St & Montague St             40.695128   \n",
       "804112         Hicks St & Montague St             40.695128   \n",
       "804113    Lawrence St & Willoughby St             40.692362   \n",
       "804114    Lawrence St & Willoughby St             40.692362   \n",
       "804115        Hanson Pl & St Felix St             40.685160   \n",
       "804116            Clark St & Henry St             40.697601   \n",
       "804117                Dean St & 4 Ave             40.683125   \n",
       "804118          Forsyth St & Canal St             40.715816   \n",
       "804119          Forsyth St & Canal St             40.715816   \n",
       "804120           Johnson St & Gold St             40.694749   \n",
       "804121    DeKalb Ave & Vanderbilt Ave             40.689407   \n",
       "804122        Henry St & Atlantic Ave             40.690893   \n",
       "804123                Dean St & 4 Ave             40.683125   \n",
       "804124             Front St & Gold St             40.702240   \n",
       "\n",
       "        end station longitude  bikeid    usertype  birth year  gender  \n",
       "0                  -73.984427   22780  Subscriber      1983.0       1  \n",
       "1                  -73.976485   17787  Subscriber      1975.0       1  \n",
       "2                  -74.007114   18797  Subscriber      1966.0       1  \n",
       "3                  -73.988484   14625  Subscriber      1985.0       1  \n",
       "4                  -74.002116   21238  Subscriber      1968.0       1  \n",
       "5                  -73.980144   19518  Subscriber      1960.0       2  \n",
       "6                  -73.976485   22307  Subscriber      1980.0       1  \n",
       "7                  -74.013012   23450  Subscriber      1988.0       2  \n",
       "8                  -74.010455   22354  Subscriber      1986.0       1  \n",
       "9                  -73.976485   23531  Subscriber      1977.0       1  \n",
       "10                 -73.972078   22466  Subscriber      1982.0       2  \n",
       "11                 -74.005226   16851  Subscriber      1971.0       1  \n",
       "12                 -73.993934   24319  Subscriber      1984.0       1  \n",
       "13                 -73.971879   22851  Subscriber      1985.0       1  \n",
       "14                 -73.967245   23453  Subscriber      1984.0       1  \n",
       "15                 -73.990985   19858  Subscriber      1993.0       1  \n",
       "16                 -73.987654   21141  Subscriber      1980.0       2  \n",
       "17                 -73.973442   23474  Subscriber      1962.0       1  \n",
       "18                 -74.013942   24126  Subscriber      1982.0       1  \n",
       "19                 -74.016777   19070  Subscriber      1989.0       1  \n",
       "20                 -74.006744   22707  Subscriber      1988.0       1  \n",
       "21                 -73.996951   22976  Subscriber      1986.0       2  \n",
       "22                 -74.003664   17982  Subscriber      1987.0       1  \n",
       "23                 -73.982681   20563  Subscriber      1947.0       1  \n",
       "24                 -73.988639   16419    Customer         NaN       0  \n",
       "25                 -74.006744   22570  Subscriber      1974.0       1  \n",
       "26                 -74.005226   15412  Subscriber      1969.0       1  \n",
       "27                 -74.002638   21296  Subscriber      1982.0       1  \n",
       "28                 -73.970694   22247  Subscriber      1947.0       1  \n",
       "29                 -74.002950   24225  Subscriber      1965.0       1  \n",
       "...                       ...     ...         ...         ...     ...  \n",
       "804095             -73.977112   16964  Subscriber      1975.0       1  \n",
       "804096             -73.953517   22435  Subscriber      1976.0       1  \n",
       "804097             -73.953809   19527  Subscriber      1988.0       1  \n",
       "804098             -73.953809   22679  Subscriber      1977.0       2  \n",
       "804099             -74.013012   23200  Subscriber      1977.0       1  \n",
       "804100             -73.951335   19615  Subscriber      1977.0       2  \n",
       "804101             -73.945242   17518  Subscriber      1986.0       1  \n",
       "804102             -73.950048   17562  Subscriber      1967.0       1  \n",
       "804103             -74.013012   23868  Subscriber      1977.0       1  \n",
       "804104             -73.950323   18719  Subscriber      1979.0       2  \n",
       "804105             -73.950916   18978  Subscriber      1986.0       1  \n",
       "804106             -73.935775   22785  Subscriber      1982.0       1  \n",
       "804107             -73.950048   23224  Subscriber      1988.0       1  \n",
       "804108             -74.013012   23778  Subscriber      1977.0       1  \n",
       "804109             -73.945004   22814    Customer         NaN       0  \n",
       "804110             -73.993446   16574  Subscriber      1950.0       2  \n",
       "804111             -73.995951   16794  Subscriber      1956.0       1  \n",
       "804112             -73.995951   24246  Subscriber      1969.0       1  \n",
       "804113             -73.986317   17440  Subscriber      1956.0       1  \n",
       "804114             -73.986317   23239  Subscriber      1966.0       2  \n",
       "804115             -73.977114   15594  Subscriber      1990.0       2  \n",
       "804116             -73.993446   23510  Subscriber      1982.0       1  \n",
       "804117             -73.978951   23901  Subscriber      1979.0       1  \n",
       "804118             -73.994224   23410    Customer         NaN       0  \n",
       "804119             -73.994224   20212    Customer         NaN       0  \n",
       "804120             -73.983625   22282  Subscriber      1957.0       1  \n",
       "804121             -73.968855   22366  Subscriber      1978.0       1  \n",
       "804122             -73.996123   20663  Subscriber      1959.0       1  \n",
       "804123             -73.978951   19782  Subscriber      1987.0       1  \n",
       "804124             -73.982578   23411  Subscriber      1968.0       1  \n",
       "\n",
       "[804125 rows x 15 columns]>"
      ]
     },
     "execution_count": 15,
     "metadata": {},
     "output_type": "execute_result"
    }
   ],
   "source": [
    "citibike = pd.read_csv('201512-citibike-tripdata.csv')\n",
    "citibike.head"
   ]
  },
  {
   "cell_type": "code",
   "execution_count": 16,
   "metadata": {
    "collapsed": false
   },
   "outputs": [
    {
     "data": {
      "text/plain": [
       "Index([u'tripduration', u'starttime', u'stoptime', u'start station id',\n",
       "       u'start station name', u'start station latitude',\n",
       "       u'start station longitude', u'end station id', u'end station name',\n",
       "       u'end station latitude', u'end station longitude', u'bikeid',\n",
       "       u'usertype', u'birth year', u'gender'],\n",
       "      dtype='object')"
      ]
     },
     "execution_count": 16,
     "metadata": {},
     "output_type": "execute_result"
    }
   ],
   "source": [
    "citibike.columns"
   ]
  },
  {
   "cell_type": "code",
   "execution_count": 18,
   "metadata": {
    "collapsed": false
   },
   "outputs": [],
   "source": [
    "citibike.drop(['starttime', 'stoptime', 'start station id',\n",
    "       'start station name', 'start station latitude',\n",
    "       'start station longitude', 'end station id', 'end station name',\n",
    "       'end station latitude', 'end station longitude', 'bikeid',\n",
    "       'usertype', 'gender'], axis = 1, inplace = True)"
   ]
  },
  {
   "cell_type": "code",
   "execution_count": 66,
   "metadata": {
    "collapsed": false
   },
   "outputs": [
    {
     "data": {
      "text/plain": [
       "[1930, 2015, 0, 120000]"
      ]
     },
     "execution_count": 66,
     "metadata": {},
     "output_type": "execute_result"
    },
    {
     "data": {
      "image/png": "[encoded data removed]",
      "text/plain": [
       "<matplotlib.figure.Figure at 0x7f2d7faac4d0>"
      ]
     },
     "metadata": {},
     "output_type": "display_data"
    }
   ],
   "source": [
    "a = citibike['birth year'].hist(bins = 30)\n",
    "a.set_title(\"Histogram\")\n",
    "a.set_xlabel(\"Birth year\")\n",
    "a.set_ylabel(\"Value\")\n",
    "plt.axis([1930,2015,0,120000]) #Not takingn into account the outliers here \n",
    "#a.axis(0,10000,0,900000)"
   ]
  },
  {
   "cell_type": "code",
   "execution_count": 24,
   "metadata": {
    "collapsed": false
   },
   "outputs": [
    {
     "data": {
      "text/html": [
       "<div>\n",
       "<table border=\"1\" class=\"dataframe\">\n",
       "  <thead>\n",
       "    <tr style=\"text-align: right;\">\n",
       "      <th></th>\n",
       "      <th>tripduration</th>\n",
       "      <th>birth year</th>\n",
       "    </tr>\n",
       "  </thead>\n",
       "  <tbody>\n",
       "    <tr>\n",
       "      <th>0</th>\n",
       "      <td>475</td>\n",
       "      <td>1983.0</td>\n",
       "    </tr>\n",
       "    <tr>\n",
       "      <th>1</th>\n",
       "      <td>684</td>\n",
       "      <td>1975.0</td>\n",
       "    </tr>\n",
       "    <tr>\n",
       "      <th>2</th>\n",
       "      <td>1063</td>\n",
       "      <td>1966.0</td>\n",
       "    </tr>\n",
       "    <tr>\n",
       "      <th>3</th>\n",
       "      <td>1075</td>\n",
       "      <td>1985.0</td>\n",
       "    </tr>\n",
       "    <tr>\n",
       "      <th>4</th>\n",
       "      <td>293</td>\n",
       "      <td>1968.0</td>\n",
       "    </tr>\n",
       "  </tbody>\n",
       "</table>\n",
       "</div>"
      ],
      "text/plain": [
       "   tripduration  birth year\n",
       "0           475      1983.0\n",
       "1           684      1975.0\n",
       "2          1063      1966.0\n",
       "3          1075      1985.0\n",
       "4           293      1968.0"
      ]
     },
     "execution_count": 24,
     "metadata": {},
     "output_type": "execute_result"
    }
   ],
   "source": [
    "citibike.head()"
   ]
  },
  {
   "cell_type": "code",
   "execution_count": 65,
   "metadata": {
    "collapsed": false
   },
   "outputs": [
    {
     "data": {
      "text/plain": [
       "<matplotlib.axes._subplots.AxesSubplot at 0x7f2d7facf050>"
      ]
     },
     "execution_count": 65,
     "metadata": {},
     "output_type": "execute_result"
    },
    {
     "data": {
      "image/png": "[encoded data removed]",
      "text/plain": [
       "<matplotlib.figure.Figure at 0x7f2d7f997610>"
      ]
     },
     "metadata": {},
     "output_type": "display_data"
    }
   ],
   "source": [
    "citibike.plot(x = 'birth year', y = 'tripduration', kind = 'scatter')\n",
    "#plt.axis([1930,2015,0,3500000]) #axis allows you to work on rows and columns"
   ]
  },
  {
   "cell_type": "code",
   "execution_count": 54,
   "metadata": {
    "collapsed": false
   },
   "outputs": [
    {
     "data": {
      "text/plain": [
       "<matplotlib.text.Text at 0x7f2d807d33d0>"
      ]
     },
     "execution_count": 54,
     "metadata": {},
     "output_type": "execute_result"
    },
    {
     "data": {
      "image/png": "[encoded data removed]",
      "text/plain": [
       "<matplotlib.figure.Figure at 0x7f2d8079a050>"
      ]
     },
     "metadata": {},
     "output_type": "display_data"
    }
   ],
   "source": [
    "b = citibike['tripduration'].hist(bins = 5)\n",
    "b.set_title(\"Histogram\")\n",
    "b.set_xlabel(\"Duration\")\n",
    "b.set_ylabel(\"Value\")"
   ]
  },
  {
   "cell_type": "code",
   "execution_count": null,
   "metadata": {
    "collapsed": true
   },
   "outputs": [],
   "source": []
  }
 ],
 "metadata": {
  "kernelspec": {
   "display_name": "PUI2016_Python2",
   "language": "python",
   "name": "pui2016_python2"
  },
  "language_info": {
   "codemirror_mode": {
    "name": "ipython",
    "version": 2
   },
   "file_extension": ".py",
   "mimetype": "text/x-python",
   "name": "python",
   "nbconvert_exporter": "python",
   "pygments_lexer": "ipython2",
   "version": "2.7.12"
  }
 },
 "nbformat": 4,
 "nbformat_minor": 0
}
