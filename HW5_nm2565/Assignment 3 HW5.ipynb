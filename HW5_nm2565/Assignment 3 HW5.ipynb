{
 "cells": [
  {
   "cell_type": "markdown",
   "metadata": {},
   "source": [
    "Assignment 3:\n",
    "Null hypothesis: \n",
    "1.\tAn average person who diets loses significantly less or equal weight compared to a person who exercises at alpha = 0.05. \n",
    "\n",
    "Weight loss (diet)<=weight loss (exercise)\n",
    "\n",
    "2.\tMajority (or more than 50%) of Americans do not trust their president. \n",
    "\n",
    "Americans who trust president < Americans who do not trust president\n",
    "\n",
    "3.\tThe cessation rate of the smokers who used nicotine patches was lower or equal to the cessation rate of the smokers who used placebo patches at alpha = 0.05. \n",
    "\n",
    "Cessation rate (nicotine patches) <=cessation rate (placebo patches)\n",
    "\n",
    "4.\tThe IQ of children at ages 1, 2, 3 and 4, with mothers who smoked during pregnancy was higher or equal to the IQ of children at ages 1, 2, 3 and 4, with mothers who did not smoke during pregnancy at alpha = 0.05.\n",
    "\n",
    "Child_IQ (mothers smoking during pregnancy) >= Child_IQ (mothers not smoking during pregnancy)\n"
   ]
  },
  {
   "cell_type": "code",
   "execution_count": null,
   "metadata": {
    "collapsed": true
   },
   "outputs": [],
   "source": []
  }
 ],
 "metadata": {
  "kernelspec": {
   "display_name": "PUI2016_Python2",
   "language": "python",
   "name": "pui2016_python2"
  },
  "language_info": {
   "codemirror_mode": {
    "name": "ipython",
    "version": 2
   },
   "file_extension": ".py",
   "mimetype": "text/x-python",
   "name": "python",
   "nbconvert_exporter": "python",
   "pygments_lexer": "ipython2",
   "version": "2.7.12"
  }
 },
 "nbformat": 4,
 "nbformat_minor": 0
}
