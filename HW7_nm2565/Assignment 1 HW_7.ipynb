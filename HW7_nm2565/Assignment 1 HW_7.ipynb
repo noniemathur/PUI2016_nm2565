{
 "cells": [
  {
   "cell_type": "code",
   "execution_count": 6,
   "metadata": {
    "collapsed": false
   },
   "outputs": [
    {
     "name": "stdout",
     "output_type": "stream",
     "text": [
      "Populating the interactive namespace from numpy and matplotlib\n"
     ]
    }
   ],
   "source": [
    "from __future__ import print_function\n",
    "import pylab as pl\n",
    "import json\n",
    "import urllib as urllib\n",
    "import pandas as pd\n",
    "import numpy as np\n",
    "import os\n",
    "%pylab inline"
   ]
  },
  {
   "cell_type": "code",
   "execution_count": 7,
   "metadata": {
    "collapsed": false
   },
   "outputs": [
    {
     "data": {
      "text/plain": [
       "'/home/cusp/nm2565/PUIdata'"
      ]
     },
     "execution_count": 7,
     "metadata": {},
     "output_type": "execute_result"
    }
   ],
   "source": [
    "os.getenv('PUIDATA')"
   ]
  },
  {
   "cell_type": "code",
   "execution_count": 8,
   "metadata": {
    "collapsed": false
   },
   "outputs": [
    {
     "name": "stdout",
     "output_type": "stream",
     "text": [
      "  % Total    % Received % Xferd  Average Speed   Time    Time     Time  Current\n",
      "                                 Dload  Upload   Total   Spent    Left  Speed\n",
      "100  8101    0  8101    0     0  22777      0 --:--:-- --:--:-- --:--:--  114k\n"
     ]
    }
   ],
   "source": [
    "get_ipython().system(\"curl -O 'https://data.cityofnewyork.us/api/views/2pmt-skyq/rows.csv'\")"
   ]
  },
  {
   "cell_type": "code",
   "execution_count": 42,
   "metadata": {
    "collapsed": false
   },
   "outputs": [
    {
     "data": {
      "text/html": [
       "<div>\n",
       "<table border=\"1\" class=\"dataframe\">\n",
       "  <thead>\n",
       "    <tr style=\"text-align: right;\">\n",
       "      <th></th>\n",
       "      <th>ZIP</th>\n",
       "      <th>Building type (service class)</th>\n",
       "      <th>Consumption (mlbs)</th>\n",
       "      <th>Consumption (Mg)</th>\n",
       "      <th>Utility/Data Source</th>\n",
       "    </tr>\n",
       "  </thead>\n",
       "  <tbody>\n",
       "    <tr>\n",
       "      <th>0</th>\n",
       "      <td>10048\\n</td>\n",
       "      <td>Commercial</td>\n",
       "      <td>72117</td>\n",
       "      <td>32712</td>\n",
       "      <td>ConEd</td>\n",
       "    </tr>\n",
       "    <tr>\n",
       "      <th>1</th>\n",
       "      <td>10001\\n(40.75025902143676, -73.99688630375988)</td>\n",
       "      <td>Commercial</td>\n",
       "      <td>13108</td>\n",
       "      <td>5946</td>\n",
       "      <td>ConEd</td>\n",
       "    </tr>\n",
       "    <tr>\n",
       "      <th>2</th>\n",
       "      <td>10003\\n(40.73194394755518, -73.98887214913032)</td>\n",
       "      <td>Commercial</td>\n",
       "      <td>7757</td>\n",
       "      <td>3519</td>\n",
       "      <td>ConEd</td>\n",
       "    </tr>\n",
       "    <tr>\n",
       "      <th>3</th>\n",
       "      <td>10002\\n(40.71612146793143, -73.98583147024613)</td>\n",
       "      <td>Large Residential</td>\n",
       "      <td>154049</td>\n",
       "      <td>69876</td>\n",
       "      <td>ConEd</td>\n",
       "    </tr>\n",
       "    <tr>\n",
       "      <th>4</th>\n",
       "      <td>10003\\n(40.73194394755518, -73.98887214913032)</td>\n",
       "      <td>Large Residential</td>\n",
       "      <td>101042</td>\n",
       "      <td>45832</td>\n",
       "      <td>ConEd</td>\n",
       "    </tr>\n",
       "  </tbody>\n",
       "</table>\n",
       "</div>"
      ],
      "text/plain": [
       "                                              ZIP  \\\n",
       "0                                         10048\\n   \n",
       "1  10001\\n(40.75025902143676, -73.99688630375988)   \n",
       "2  10003\\n(40.73194394755518, -73.98887214913032)   \n",
       "3  10002\\n(40.71612146793143, -73.98583147024613)   \n",
       "4  10003\\n(40.73194394755518, -73.98887214913032)   \n",
       "\n",
       "  Building type (service class)   Consumption (mlbs)    Consumption (Mg)   \\\n",
       "0                    Commercial                 72117               32712   \n",
       "1                    Commercial                 13108                5946   \n",
       "2                    Commercial                  7757                3519   \n",
       "3             Large Residential                154049               69876   \n",
       "4             Large Residential                101042               45832   \n",
       "\n",
       "  Utility/Data Source  \n",
       "0               ConEd  \n",
       "1               ConEd  \n",
       "2               ConEd  \n",
       "3               ConEd  \n",
       "4               ConEd  "
      ]
     },
     "execution_count": 42,
     "metadata": {},
     "output_type": "execute_result"
    }
   ],
   "source": [
    "steam_consumption = pd.read_csv('rows.csv')\n",
    "steam_consumption.head()"
   ]
  },
  {
   "cell_type": "code",
   "execution_count": 43,
   "metadata": {
    "collapsed": false
   },
   "outputs": [
    {
     "data": {
      "text/plain": [
       "[10048,\n",
       " 10001,\n",
       " 10003,\n",
       " 10002,\n",
       " 10003,\n",
       " 10001,\n",
       " 10002,\n",
       " 10001,\n",
       " 10004,\n",
       " 10003,\n",
       " 10001,\n",
       " 10002,\n",
       " 10003,\n",
       " 10021,\n",
       " 10022,\n",
       " 10013,\n",
       " 10036,\n",
       " 10014,\n",
       " 10011,\n",
       " 10005,\n",
       " 10017,\n",
       " 10022,\n",
       " 10014,\n",
       " 10019,\n",
       " 10006,\n",
       " 10016,\n",
       " 10028,\n",
       " 10128,\n",
       " 10038,\n",
       " 10016,\n",
       " 10028,\n",
       " 10036,\n",
       " 10009,\n",
       " 10006,\n",
       " 10017,\n",
       " 10012,\n",
       " 10019,\n",
       " 10036,\n",
       " 10006,\n",
       " 10011,\n",
       " 10035,\n",
       " 10014,\n",
       " 10013,\n",
       " 10020,\n",
       " 10004,\n",
       " 10021,\n",
       " 10010,\n",
       " 10016,\n",
       " 10020,\n",
       " 10012,\n",
       " 10023,\n",
       " 10021,\n",
       " 10017,\n",
       " 10038,\n",
       " 10005,\n",
       " 10009,\n",
       " 10036,\n",
       " 10024,\n",
       " 10020,\n",
       " 10009,\n",
       " 10007,\n",
       " 10018,\n",
       " 10013,\n",
       " 10022,\n",
       " 10028,\n",
       " 10025,\n",
       " 10021,\n",
       " 10033,\n",
       " 10007,\n",
       " 10026,\n",
       " 10019,\n",
       " 10019,\n",
       " 10019,\n",
       " 10005,\n",
       " 10018,\n",
       " 10024,\n",
       " 10011,\n",
       " 10022,\n",
       " 10010,\n",
       " 10038,\n",
       " 10007,\n",
       " 10023,\n",
       " 10065,\n",
       " 10004,\n",
       " 10012,\n",
       " 10010,\n",
       " 10065,\n",
       " 10024,\n",
       " 10023,\n",
       " 10017,\n",
       " 10075,\n",
       " 10009,\n",
       " 10018,\n",
       " 10022,\n",
       " 10065,\n",
       " 10011,\n",
       " 10004,\n",
       " 10075,\n",
       " 10065,\n",
       " 10075,\n",
       " 10025,\n",
       " 10017]"
      ]
     },
     "execution_count": 43,
     "metadata": {},
     "output_type": "execute_result"
    }
   ],
   "source": [
    "new_zip = [] #create an empty list \n",
    "for lm in steam_consumption['ZIP']: #run the for loop so that all the values are included.\n",
    "    new_zip.append(int(lm[:5])) #I'm taking only the first 5 values\n",
    "new_zip "
   ]
  },
  {
   "cell_type": "code",
   "execution_count": 44,
   "metadata": {
    "collapsed": false
   },
   "outputs": [],
   "source": [
    "steam_consumption['ZIP'] = new_zip #replacing the values"
   ]
  },
  {
   "cell_type": "code",
   "execution_count": 45,
   "metadata": {
    "collapsed": false
   },
   "outputs": [
    {
     "data": {
      "text/html": [
       "<div>\n",
       "<table border=\"1\" class=\"dataframe\">\n",
       "  <thead>\n",
       "    <tr style=\"text-align: right;\">\n",
       "      <th></th>\n",
       "      <th>ZIP</th>\n",
       "      <th>Building type (service class)</th>\n",
       "      <th>Consumption (mlbs)</th>\n",
       "      <th>Consumption (Mg)</th>\n",
       "      <th>Utility/Data Source</th>\n",
       "    </tr>\n",
       "  </thead>\n",
       "  <tbody>\n",
       "    <tr>\n",
       "      <th>0</th>\n",
       "      <td>10048</td>\n",
       "      <td>Commercial</td>\n",
       "      <td>72117</td>\n",
       "      <td>32712</td>\n",
       "      <td>ConEd</td>\n",
       "    </tr>\n",
       "    <tr>\n",
       "      <th>1</th>\n",
       "      <td>10001</td>\n",
       "      <td>Commercial</td>\n",
       "      <td>13108</td>\n",
       "      <td>5946</td>\n",
       "      <td>ConEd</td>\n",
       "    </tr>\n",
       "    <tr>\n",
       "      <th>2</th>\n",
       "      <td>10003</td>\n",
       "      <td>Commercial</td>\n",
       "      <td>7757</td>\n",
       "      <td>3519</td>\n",
       "      <td>ConEd</td>\n",
       "    </tr>\n",
       "    <tr>\n",
       "      <th>3</th>\n",
       "      <td>10002</td>\n",
       "      <td>Large Residential</td>\n",
       "      <td>154049</td>\n",
       "      <td>69876</td>\n",
       "      <td>ConEd</td>\n",
       "    </tr>\n",
       "    <tr>\n",
       "      <th>4</th>\n",
       "      <td>10003</td>\n",
       "      <td>Large Residential</td>\n",
       "      <td>101042</td>\n",
       "      <td>45832</td>\n",
       "      <td>ConEd</td>\n",
       "    </tr>\n",
       "  </tbody>\n",
       "</table>\n",
       "</div>"
      ],
      "text/plain": [
       "     ZIP Building type (service class)   Consumption (mlbs)   \\\n",
       "0  10048                    Commercial                 72117   \n",
       "1  10001                    Commercial                 13108   \n",
       "2  10003                    Commercial                  7757   \n",
       "3  10002             Large Residential                154049   \n",
       "4  10003             Large Residential                101042   \n",
       "\n",
       "    Consumption (Mg)  Utility/Data Source  \n",
       "0               32712               ConEd  \n",
       "1                5946               ConEd  \n",
       "2                3519               ConEd  \n",
       "3               69876               ConEd  \n",
       "4               45832               ConEd  "
      ]
     },
     "execution_count": 45,
     "metadata": {},
     "output_type": "execute_result"
    }
   ],
   "source": [
    "steam_consumption.head()"
   ]
  },
  {
   "cell_type": "code",
   "execution_count": 46,
   "metadata": {
    "collapsed": false
   },
   "outputs": [
    {
     "data": {
      "text/plain": [
       "Index([u'ZIP', u'Building type (service class)', u' Consumption (mlbs) ',\n",
       "       u' Consumption (Mg) ', u'Utility/Data Source'],\n",
       "      dtype='object')"
      ]
     },
     "execution_count": 46,
     "metadata": {},
     "output_type": "execute_result"
    }
   ],
   "source": [
    "steam_consumption.columns"
   ]
  },
  {
   "cell_type": "code",
   "execution_count": 47,
   "metadata": {
    "collapsed": true
   },
   "outputs": [],
   "source": [
    "steam_consumption.drop([' Consumption (Mg) ','Utility/Data Source'], axis=1, inplace=True)\n",
    "steam_consumption.dropna(inplace = True)"
   ]
  },
  {
   "cell_type": "code",
   "execution_count": 48,
   "metadata": {
    "collapsed": false
   },
   "outputs": [
    {
     "data": {
      "text/html": [
       "<div>\n",
       "<table border=\"1\" class=\"dataframe\">\n",
       "  <thead>\n",
       "    <tr style=\"text-align: right;\">\n",
       "      <th></th>\n",
       "      <th>ZIP</th>\n",
       "      <th>Building type (service class)</th>\n",
       "      <th>Consumption (mlbs)</th>\n",
       "    </tr>\n",
       "  </thead>\n",
       "  <tbody>\n",
       "    <tr>\n",
       "      <th>0</th>\n",
       "      <td>10048</td>\n",
       "      <td>Commercial</td>\n",
       "      <td>72117</td>\n",
       "    </tr>\n",
       "    <tr>\n",
       "      <th>1</th>\n",
       "      <td>10001</td>\n",
       "      <td>Commercial</td>\n",
       "      <td>13108</td>\n",
       "    </tr>\n",
       "    <tr>\n",
       "      <th>2</th>\n",
       "      <td>10003</td>\n",
       "      <td>Commercial</td>\n",
       "      <td>7757</td>\n",
       "    </tr>\n",
       "    <tr>\n",
       "      <th>3</th>\n",
       "      <td>10002</td>\n",
       "      <td>Large Residential</td>\n",
       "      <td>154049</td>\n",
       "    </tr>\n",
       "    <tr>\n",
       "      <th>4</th>\n",
       "      <td>10003</td>\n",
       "      <td>Large Residential</td>\n",
       "      <td>101042</td>\n",
       "    </tr>\n",
       "  </tbody>\n",
       "</table>\n",
       "</div>"
      ],
      "text/plain": [
       "     ZIP Building type (service class)   Consumption (mlbs) \n",
       "0  10048                    Commercial                 72117\n",
       "1  10001                    Commercial                 13108\n",
       "2  10003                    Commercial                  7757\n",
       "3  10002             Large Residential                154049\n",
       "4  10003             Large Residential                101042"
      ]
     },
     "execution_count": 48,
     "metadata": {},
     "output_type": "execute_result"
    }
   ],
   "source": [
    "steam_consumption.head()"
   ]
  },
  {
   "cell_type": "code",
   "execution_count": 50,
   "metadata": {
    "collapsed": true
   },
   "outputs": [],
   "source": [
    "borough = {10026: 'Manhattan', 10027: 'Manhattan', 10030: 'Manhattan', 10037: 'Manhattan', 10039: 'Manhattan', \n",
    "           10001: 'Manhattan', 10011: 'Manhattan', 10018: 'Manhattan', 10019: 'Manhattan', 10020: 'Manhattan', \n",
    "           10036: 'Manhattan', 10029: 'Manhattan', 10035: 'Manhattan', 10010: 'Manhattan', 10016: 'Manhattan', \n",
    "           10017: 'Manhattan', 10022: 'Manhattan', 10012: 'Manhattan', 10013: 'Manhattan', 10014: 'Manhattan', \n",
    "           10004: 'Manhattan', 10005: 'Manhattan', 10006: 'Manhattan', 10007: 'Manhattan', 10038: 'Manhattan', \n",
    "           10280: 'Manhattan', 10002: 'Manhattan', 10003: 'Manhattan', 10009: 'Manhattan', 10021: 'Manhattan', \n",
    "           10028: 'Manhattan', 10044: 'Manhattan', 10065: 'Manhattan', 10075: 'Manhattan', 10128: 'Manhattan', \n",
    "           10023: 'Manhattan', 10024: 'Manhattan', 10025: 'Manhattan', 10031: 'Manhattan', 10032: 'Manhattan', \n",
    "           10033: 'Manhattan', 10034: 'Manhattan', 10040: 'Manhattan'}"
   ]
  },
  {
   "cell_type": "code",
   "execution_count": 55,
   "metadata": {
    "collapsed": true
   },
   "outputs": [],
   "source": [
    "steam_consumption['Borough'] = steam_consumption['ZIP'].map(borough)"
   ]
  },
  {
   "cell_type": "code",
   "execution_count": 67,
   "metadata": {
    "collapsed": true
   },
   "outputs": [],
   "source": [
    "#steam_consumption1 = pd.DataFrame(steam_consumption[' Consumption (mlbs) '].groupby([steam_consumption['ZIP'], \n",
    "                                                                                     #steam_consumption['Building type (service class)'], \n",
    "                                                                                     #steam_consumption['Borough']]).mean())\n",
    "        #I would have used this to calculate the mean of all the values of any one particular zip code"
   ]
  },
  {
   "cell_type": "code",
   "execution_count": 71,
   "metadata": {
    "collapsed": true
   },
   "outputs": [],
   "source": [
    "steam_consumption1 = steam_consumption1[(steam_consumption1['Building type (service class)'] == \"Commercial\")]\n",
    "#taking the value of only the commercial units"
   ]
  },
  {
   "cell_type": "code",
   "execution_count": 72,
   "metadata": {
    "collapsed": false
   },
   "outputs": [
    {
     "data": {
      "text/html": [
       "<div>\n",
       "<table border=\"1\" class=\"dataframe\">\n",
       "  <thead>\n",
       "    <tr style=\"text-align: right;\">\n",
       "      <th></th>\n",
       "      <th>level_0</th>\n",
       "      <th>index</th>\n",
       "      <th>ZIP</th>\n",
       "      <th>Building type (service class)</th>\n",
       "      <th>Borough</th>\n",
       "      <th>Consumption (mlbs)</th>\n",
       "    </tr>\n",
       "  </thead>\n",
       "  <tbody>\n",
       "    <tr>\n",
       "      <th>0</th>\n",
       "      <td>0</td>\n",
       "      <td>0</td>\n",
       "      <td>10001</td>\n",
       "      <td>Commercial</td>\n",
       "      <td>Manhattan</td>\n",
       "      <td>74442.000000</td>\n",
       "    </tr>\n",
       "    <tr>\n",
       "      <th>1</th>\n",
       "      <td>2</td>\n",
       "      <td>2</td>\n",
       "      <td>10002</td>\n",
       "      <td>Commercial</td>\n",
       "      <td>Manhattan</td>\n",
       "      <td>53964.500000</td>\n",
       "    </tr>\n",
       "    <tr>\n",
       "      <th>2</th>\n",
       "      <td>4</td>\n",
       "      <td>4</td>\n",
       "      <td>10003</td>\n",
       "      <td>Commercial</td>\n",
       "      <td>Manhattan</td>\n",
       "      <td>68233.666667</td>\n",
       "    </tr>\n",
       "    <tr>\n",
       "      <th>3</th>\n",
       "      <td>6</td>\n",
       "      <td>6</td>\n",
       "      <td>10004</td>\n",
       "      <td>Commercial</td>\n",
       "      <td>Manhattan</td>\n",
       "      <td>104284.333333</td>\n",
       "    </tr>\n",
       "    <tr>\n",
       "      <th>4</th>\n",
       "      <td>8</td>\n",
       "      <td>8</td>\n",
       "      <td>10005</td>\n",
       "      <td>Commercial</td>\n",
       "      <td>Manhattan</td>\n",
       "      <td>17028.000000</td>\n",
       "    </tr>\n",
       "  </tbody>\n",
       "</table>\n",
       "</div>"
      ],
      "text/plain": [
       "   level_0  index    ZIP Building type (service class)    Borough  \\\n",
       "0        0      0  10001                    Commercial  Manhattan   \n",
       "1        2      2  10002                    Commercial  Manhattan   \n",
       "2        4      4  10003                    Commercial  Manhattan   \n",
       "3        6      6  10004                    Commercial  Manhattan   \n",
       "4        8      8  10005                    Commercial  Manhattan   \n",
       "\n",
       "    Consumption (mlbs)   \n",
       "0          74442.000000  \n",
       "1          53964.500000  \n",
       "2          68233.666667  \n",
       "3         104284.333333  \n",
       "4          17028.000000  "
      ]
     },
     "execution_count": 72,
     "metadata": {},
     "output_type": "execute_result"
    }
   ],
   "source": [
    "steam_consumption1.reset_index(inplace=True)\n",
    "steam_consumption1.head()"
   ]
  },
  {
   "cell_type": "code",
   "execution_count": 83,
   "metadata": {
    "collapsed": false,
    "scrolled": true
   },
   "outputs": [
    {
     "ename": "AttributeError",
     "evalue": "'AxesSubplot' object has no attribute 'ylim'",
     "output_type": "error",
     "traceback": [
      "\u001b[0;31m\u001b[0m",
      "\u001b[0;31mAttributeError\u001b[0mTraceback (most recent call last)",
      "\u001b[0;32m<ipython-input-83-833e85ef61fc>\u001b[0m in \u001b[0;36m<module>\u001b[0;34m()\u001b[0m\n\u001b[1;32m      2\u001b[0m \u001b[0max\u001b[0m\u001b[0;34m.\u001b[0m\u001b[0mset_title\u001b[0m\u001b[0;34m(\u001b[0m\u001b[0;34m'Figure 1: Steam consumption in commercial units in Manhattan'\u001b[0m\u001b[0;34m,\u001b[0m \u001b[0mfontsize\u001b[0m\u001b[0;34m=\u001b[0m\u001b[0;36m12\u001b[0m\u001b[0;34m)\u001b[0m\u001b[0;34m\u001b[0m\u001b[0m\n\u001b[1;32m      3\u001b[0m \u001b[0max\u001b[0m\u001b[0;34m.\u001b[0m\u001b[0mset_ylabel\u001b[0m\u001b[0;34m(\u001b[0m\u001b[0;34m'Consumption (mlbs)'\u001b[0m\u001b[0;34m,\u001b[0m \u001b[0mfontsize\u001b[0m\u001b[0;34m=\u001b[0m\u001b[0;36m10\u001b[0m\u001b[0;34m)\u001b[0m\u001b[0;34m\u001b[0m\u001b[0m\n\u001b[0;32m----> 4\u001b[0;31m \u001b[0max\u001b[0m\u001b[0;34m.\u001b[0m\u001b[0mylim\u001b[0m\u001b[0;34m(\u001b[0m\u001b[0;36m0\u001b[0m\u001b[0;34m,\u001b[0m\u001b[0;36m1000000\u001b[0m\u001b[0;34m)\u001b[0m\u001b[0;34m\u001b[0m\u001b[0m\n\u001b[0m\u001b[1;32m      5\u001b[0m \u001b[0max\u001b[0m\u001b[0;34m.\u001b[0m\u001b[0mset_xlabel\u001b[0m\u001b[0;34m(\u001b[0m\u001b[0;34m'Zip Code'\u001b[0m\u001b[0;34m,\u001b[0m \u001b[0mfontsize\u001b[0m\u001b[0;34m=\u001b[0m\u001b[0;36m10\u001b[0m\u001b[0;34m)\u001b[0m\u001b[0;34m\u001b[0m\u001b[0m\n",
      "\u001b[0;31mAttributeError\u001b[0m: 'AxesSubplot' object has no attribute 'ylim'"
     ]
    },
    {
     "data": {
      "image/png": "[encoded data removed]",
      "text/plain": [
       "<matplotlib.figure.Figure at 0x7ffa5f285110>"
      ]
     },
     "metadata": {},
     "output_type": "display_data"
    }
   ],
   "source": [
    "ax = steam_consumption1.plot(x='ZIP', y=' Consumption (mlbs) ', kind='bar', figsize=(12,12), legend=False, fontsize=8, color='Blue', ylim = [0,1000000])\n",
    "ax.set_title('Figure 1: Steam consumption in commercial units in Manhattan', fontsize=12)\n",
    "ax.set_ylabel('Consumption (mlbs)', fontsize=10)\n",
    "ax.ylim(0,1000000)\n",
    "ax.set_xlabel('Zip Code', fontsize=10)"
   ]
  },
  {
   "cell_type": "markdown",
   "metadata": {},
   "source": [
    "Figure 1: The bar graph above represents the steam consumption in the commericial buildings in Manhattan for the year in 2010. This data was extracted from Open NYC website and proves that the maximum steam consumption in Manhattan is in Murray Hill (Zip code 10017) in midtown Manhattan. "
   ]
  },
  {
   "cell_type": "code",
   "execution_count": null,
   "metadata": {
    "collapsed": true
   },
   "outputs": [],
   "source": []
  }
 ],
 "metadata": {
  "kernelspec": {
   "display_name": "PUI2016_Python2",
   "language": "python",
   "name": "pui2016_python2"
  },
  "language_info": {
   "codemirror_mode": {
    "name": "ipython",
    "version": 2
   },
   "file_extension": ".py",
   "mimetype": "text/x-python",
   "name": "python",
   "nbconvert_exporter": "python",
   "pygments_lexer": "ipython2",
   "version": "2.7.12"
  }
 },
 "nbformat": 4,
 "nbformat_minor": 0
}
